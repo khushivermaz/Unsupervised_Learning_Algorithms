{
  "nbformat": 4,
  "nbformat_minor": 0,
  "metadata": {
    "colab": {
      "provenance": []
    },
    "kernelspec": {
      "name": "python3",
      "display_name": "Python 3"
    },
    "language_info": {
      "name": "python"
    }
  },
  "cells": [
    {
      "cell_type": "code",
      "execution_count": 1,
      "metadata": {
        "id": "MZVkOsNpAWwQ"
      },
      "outputs": [],
      "source": [
        "from sklearn.metrics import rand_score, adjusted_rand_score"
      ]
    },
    {
      "cell_type": "code",
      "source": [
        "# eg label_true, label_predicted\n",
        "labels_true = [0, 0, 1, 1, 1, 1]\n",
        "labels_pred = [0, 0, 1, 1, 2, 2]"
      ],
      "metadata": {
        "id": "RJ5UrEgrAeYM"
      },
      "execution_count": 7,
      "outputs": []
    },
    {
      "cell_type": "code",
      "source": [
        "# calculate rand score\n",
        "sklearn_rand_score = rand_score(labels_true, labels_pred)\n",
        "print(sklearn_rand_score)\n"
      ],
      "metadata": {
        "colab": {
          "base_uri": "https://localhost:8080/"
        },
        "id": "GlyQgtThA2zg",
        "outputId": "df1c7e33-f2c3-4414-b305-67b263205bd7"
      },
      "execution_count": 8,
      "outputs": [
        {
          "output_type": "stream",
          "name": "stdout",
          "text": [
            "0.7333333333333333\n"
          ]
        }
      ]
    },
    {
      "cell_type": "code",
      "source": [
        "#calculate adjusted rand score\n",
        "sklearn_adjusted_rand_score = adjusted_rand_score(labels_true, labels_pred)\n",
        "print(sklearn_adjusted_rand_score)"
      ],
      "metadata": {
        "colab": {
          "base_uri": "https://localhost:8080/"
        },
        "id": "YsktcETXA_RO",
        "outputId": "73eb5e6d-9132-40f1-d34f-36b9b0670354"
      },
      "execution_count": 9,
      "outputs": [
        {
          "output_type": "stream",
          "name": "stdout",
          "text": [
            "0.4444444444444444\n"
          ]
        }
      ]
    },
    {
      "cell_type": "code",
      "source": [
        "#adjuisted mutual information (AMI) and normalized mutual info (NMI)\n",
        "from sklearn.metrics import adjusted_mutual_info_score, normalized_mutual_info_score\n",
        "from sklearn import metrics"
      ],
      "metadata": {
        "id": "4RsPYSsFBNQL"
      },
      "execution_count": 10,
      "outputs": []
    },
    {
      "cell_type": "code",
      "source": [
        "# eg labels_true and labels_pred\n",
        "labels_true = [0, 0, 1, 1, 1, 1]\n",
        "labels_pred = [0, 0, 2, 2, 3, 3]"
      ],
      "metadata": {
        "id": "UNXd_NsOCmFI"
      },
      "execution_count": 11,
      "outputs": []
    },
    {
      "cell_type": "code",
      "source": [
        "# calculate nmi\n",
        "NMI = normalized_mutual_info_score(labels_true, labels_pred)\n",
        "print(NMI)"
      ],
      "metadata": {
        "colab": {
          "base_uri": "https://localhost:8080/"
        },
        "id": "yTdEoGVOC1Nd",
        "outputId": "b9241217-8ece-4466-92f9-7893153bb722"
      },
      "execution_count": 12,
      "outputs": [
        {
          "output_type": "stream",
          "name": "stdout",
          "text": [
            "0.7336804366512113\n"
          ]
        }
      ]
    },
    {
      "cell_type": "code",
      "source": [
        "#calculate AMI\n",
        "AMI = adjusted_mutual_info_score(labels_true, labels_pred)\n",
        "print(AMI)"
      ],
      "metadata": {
        "colab": {
          "base_uri": "https://localhost:8080/"
        },
        "id": "CKQvo5VBC_6T",
        "outputId": "d7a0a35f-4b39-4c82-aa70-287656f1dd1a"
      },
      "execution_count": 13,
      "outputs": [
        {
          "output_type": "stream",
          "name": "stdout",
          "text": [
            "0.6153846153846159\n"
          ]
        }
      ]
    },
    {
      "cell_type": "code",
      "source": [
        "#Homogenity and completeness\n",
        "from sklearn.metrics import homogeneity_score, completeness_score\n"
      ],
      "metadata": {
        "id": "3Qeictk7DHHz"
      },
      "execution_count": 14,
      "outputs": []
    },
    {
      "cell_type": "code",
      "source": [
        "# eg labels_true, labels_pred\n",
        "labels_true = [0, 0, 0, 1, 1, 1]\n",
        "labels_pred = [0, 0, 1, 1, 2, 2]"
      ],
      "metadata": {
        "id": "rpEqVXUjEzfb"
      },
      "execution_count": 21,
      "outputs": []
    },
    {
      "cell_type": "code",
      "source": [
        "#calculate homogenity\n",
        "homogenity = homogeneity_score(labels_true, labels_pred)\n",
        "print(homogenity)"
      ],
      "metadata": {
        "colab": {
          "base_uri": "https://localhost:8080/"
        },
        "id": "QCBb5JP9E3lZ",
        "outputId": "2057bbc4-501e-46dc-c5f2-04454f30db66"
      },
      "execution_count": 22,
      "outputs": [
        {
          "output_type": "stream",
          "name": "stdout",
          "text": [
            "0.6666666666666669\n"
          ]
        }
      ]
    },
    {
      "cell_type": "code",
      "source": [
        "#calculate completeness\n",
        "completeness = completeness_score(labels_true, labels_pred)\n",
        "print(completeness)"
      ],
      "metadata": {
        "colab": {
          "base_uri": "https://localhost:8080/"
        },
        "id": "uV_8vRYrFHMp",
        "outputId": "b5d38615-9ac3-4eca-c7ef-d32be7d84088"
      },
      "execution_count": 23,
      "outputs": [
        {
          "output_type": "stream",
          "name": "stdout",
          "text": [
            "0.420619835714305\n"
          ]
        }
      ]
    },
    {
      "cell_type": "code",
      "source": [
        "#V-Measure\n",
        "from sklearn.metrics import v_measure_score"
      ],
      "metadata": {
        "id": "Rd6pTbWjFKu9"
      },
      "execution_count": 24,
      "outputs": []
    },
    {
      "cell_type": "code",
      "source": [
        "v_measure_score(labels_true, labels_pred)"
      ],
      "metadata": {
        "colab": {
          "base_uri": "https://localhost:8080/"
        },
        "id": "ol6cdcBRGEzU",
        "outputId": "078d5353-c1d5-4c81-8f00-cb034159fa57"
      },
      "execution_count": 26,
      "outputs": [
        {
          "output_type": "execute_result",
          "data": {
            "text/plain": [
              "0.5158037429793889"
            ]
          },
          "metadata": {},
          "execution_count": 26
        }
      ]
    },
    {
      "cell_type": "code",
      "source": [],
      "metadata": {
        "id": "K3AFAfDVGIlD"
      },
      "execution_count": null,
      "outputs": []
    }
  ]
}