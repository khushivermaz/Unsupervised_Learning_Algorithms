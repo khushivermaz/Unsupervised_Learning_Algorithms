{
  "nbformat": 4,
  "nbformat_minor": 0,
  "metadata": {
    "colab": {
      "provenance": []
    },
    "kernelspec": {
      "name": "python3",
      "display_name": "Python 3"
    },
    "language_info": {
      "name": "python"
    }
  },
  "cells": [
    {
      "cell_type": "code",
      "execution_count": 2,
      "metadata": {
        "id": "xjrY15Cr31PK"
      },
      "outputs": [],
      "source": [
        "#Davis Bouldin Index\n",
        "from sklearn.datasets import load_iris\n",
        "from sklearn.cluster import KMeans\n",
        "from sklearn.metrics import davies_bouldin_score\n",
        "import matplotlib.pyplot as plt\n"
      ]
    },
    {
      "cell_type": "code",
      "source": [
        "# load the datasets\n",
        "iris = load_iris()\n",
        "data = iris.data"
      ],
      "metadata": {
        "id": "0aDmjC9u4Jl1"
      },
      "execution_count": 4,
      "outputs": []
    },
    {
      "cell_type": "code",
      "source": [
        "# perfrom kmeans clustring\n",
        "kmeans = KMeans(n_clusters=3)\n",
        "labels = kmeans.fit(data)"
      ],
      "metadata": {
        "id": "DZmxp_rF4YGn"
      },
      "execution_count": 5,
      "outputs": []
    },
    {
      "cell_type": "code",
      "source": [
        "# get the cluster labels\n",
        "labels = kmeans.labels_"
      ],
      "metadata": {
        "id": "QSCP7_MC48px"
      },
      "execution_count": 6,
      "outputs": []
    },
    {
      "cell_type": "code",
      "source": [
        "# calculate DBI\n",
        "dbi = davies_bouldin_score(data, labels)\n",
        "print(\"Davies-Bouldin Index:\", dbi)"
      ],
      "metadata": {
        "colab": {
          "base_uri": "https://localhost:8080/"
        },
        "id": "pYcOJDr75QAr",
        "outputId": "d14cbf65-6dbf-4bd8-b686-c254482a9d4a"
      },
      "execution_count": 7,
      "outputs": [
        {
          "output_type": "stream",
          "name": "stdout",
          "text": [
            "Davies-Bouldin Index: 0.6619715465007465\n"
          ]
        }
      ]
    },
    {
      "cell_type": "code",
      "source": [],
      "metadata": {
        "id": "aI_rLyCK5UD_"
      },
      "execution_count": null,
      "outputs": []
    }
  ]
}